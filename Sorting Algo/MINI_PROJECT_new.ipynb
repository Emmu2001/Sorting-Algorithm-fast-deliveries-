{
 "cells": [
  {
   "cell_type": "code",
   "execution_count": 1,
   "metadata": {},
   "outputs": [],
   "source": [
    "#Importing Libraries\n",
    "import pandas as pd\n",
    "import requests \n",
    "import json \n",
    "import math\n",
    "import numpy as np"
   ]
  },
  {
   "cell_type": "code",
   "execution_count": 2,
   "metadata": {},
   "outputs": [],
   "source": [
    "#Initiallising variables\n",
    "lat_arr =[]\n",
    "lng_arr =[]\n",
    "coordinate_dict={}\n",
    "\n",
    "k=0\n",
    "distance_arr=[]\n",
    "ref_point = [19.425879, 72.82249]\n"
   ]
  },
  {
   "cell_type": "code",
   "execution_count": 3,
   "metadata": {},
   "outputs": [],
   "source": [
    "# #Sorting Algorithm\n",
    "\n",
    "# def quick_sort(sequence):\n",
    "#     length = len(sequence)\n",
    "#     if length <1:\n",
    "#         return sequence\n",
    "#     else:\n",
    "#         pivot = sequence.pop()\n",
    "\n",
    "#     items_greater = []\n",
    "#     items_lower = []\n",
    "\n",
    "#     for item in sequence:\n",
    "#         if item > pivot:\n",
    "#             items_greater.append(item)\n",
    "\n",
    "#         else:\n",
    "#             items_lower.append(item)\n",
    "\n",
    "#     return quick_sort(items_lower) + [pivot] + quick_sort(items_greater)\n"
   ]
  },
  {
   "cell_type": "code",
   "execution_count": 4,
   "metadata": {},
   "outputs": [],
   "source": [
    "\n",
    "#read address.csv\n",
    "\n",
    "df = pd.read_csv('address.csv')\n",
    "df[\"LAT\"]=None\n",
    "df[\"LNG\"]=None\n",
    "#print(df)\n",
    "\n",
    "\n",
    "name = df[\"Name\"].tolist()\n",
    "address = df[\"Delivery Address\"].tolist()\n",
    "\n",
    "\n"
   ]
  },
  {
   "cell_type": "code",
   "execution_count": 5,
   "metadata": {
    "scrolled": true
   },
   "outputs": [],
   "source": [
    "#API call & getting latitude and longitude values\n",
    "\n",
    "\n",
    "for i, row in df.iterrows():\n",
    "    apiAddress = str(df.at[i,'Delivery Address'])\n",
    "    \n",
    "    parameters = {\n",
    "        \"key\" : \"5SnCq2R6o0svWCVJF4ECd801Z3WfpNq7\",\n",
    "        \"location\" : apiAddress\n",
    "    }\n",
    "\n",
    "    response = requests.get(\"http://www.mapquestapi.com/geocoding/v1/address\", params = parameters)\n",
    "\n",
    "    data = json.loads(response.text)['results']\n",
    "    lat = data[0]['locations'][0]['latLng']['lat']\n",
    "    lng = data[0]['locations'][0]['latLng']['lng']\n",
    "\n",
    "    \n",
    "    lat_arr.append(lat)\n",
    "    lng_arr.append(lng)\n",
    "    \n",
    "    \n",
    "    \n",
    "    df.at[i,'LAT'] = lat\n",
    "    df.at[i,'LNG'] = lng\n",
    "\n",
    "\n",
    "\n"
   ]
  },
  {
   "cell_type": "code",
   "execution_count": 6,
   "metadata": {},
   "outputs": [
    {
     "data": {
      "text/html": [
       "<div>\n",
       "<style scoped>\n",
       "    .dataframe tbody tr th:only-of-type {\n",
       "        vertical-align: middle;\n",
       "    }\n",
       "\n",
       "    .dataframe tbody tr th {\n",
       "        vertical-align: top;\n",
       "    }\n",
       "\n",
       "    .dataframe thead th {\n",
       "        text-align: right;\n",
       "    }\n",
       "</style>\n",
       "<table border=\"1\" class=\"dataframe\">\n",
       "  <thead>\n",
       "    <tr style=\"text-align: right;\">\n",
       "      <th></th>\n",
       "      <th>Name</th>\n",
       "      <th>Address</th>\n",
       "      <th>Latitude</th>\n",
       "      <th>Longitude</th>\n",
       "      <th>Distance</th>\n",
       "    </tr>\n",
       "  </thead>\n",
       "  <tbody>\n",
       "    <tr>\n",
       "      <th>0</th>\n",
       "      <td>Palak Joseph</td>\n",
       "      <td>505,Vasai One, Near Panchavati, Vasai West, Va...</td>\n",
       "      <td>19.425879</td>\n",
       "      <td>72.822490</td>\n",
       "      <td>0.000000</td>\n",
       "    </tr>\n",
       "    <tr>\n",
       "      <th>1</th>\n",
       "      <td>Emmanuel Pinto</td>\n",
       "      <td>A/102, Chanchal Tower 'B' bldg, Anand Nagar, V...</td>\n",
       "      <td>19.380380</td>\n",
       "      <td>72.831010</td>\n",
       "      <td>0.046290</td>\n",
       "    </tr>\n",
       "    <tr>\n",
       "      <th>3</th>\n",
       "      <td>Rohit Nair</td>\n",
       "      <td>D-43 ,Neelima Apartments ,'B' Bldg , S.p.s Mar...</td>\n",
       "      <td>19.148470</td>\n",
       "      <td>72.933850</td>\n",
       "      <td>0.298926</td>\n",
       "    </tr>\n",
       "    <tr>\n",
       "      <th>2</th>\n",
       "      <td>Rendell Padu</td>\n",
       "      <td>205, Divya sarjan, above Anand Nursing Home, G...</td>\n",
       "      <td>39.390897</td>\n",
       "      <td>-99.066067</td>\n",
       "      <td>173.044150</td>\n",
       "    </tr>\n",
       "  </tbody>\n",
       "</table>\n",
       "</div>"
      ],
      "text/plain": [
       "             Name                                            Address  \\\n",
       "0    Palak Joseph  505,Vasai One, Near Panchavati, Vasai West, Va...   \n",
       "1  Emmanuel Pinto  A/102, Chanchal Tower 'B' bldg, Anand Nagar, V...   \n",
       "3      Rohit Nair  D-43 ,Neelima Apartments ,'B' Bldg , S.p.s Mar...   \n",
       "2    Rendell Padu  205, Divya sarjan, above Anand Nursing Home, G...   \n",
       "\n",
       "    Latitude  Longitude    Distance  \n",
       "0  19.425879  72.822490    0.000000  \n",
       "1  19.380380  72.831010    0.046290  \n",
       "3  19.148470  72.933850    0.298926  \n",
       "2  39.390897 -99.066067  173.044150  "
      ]
     },
     "execution_count": 6,
     "metadata": {},
     "output_type": "execute_result"
    }
   ],
   "source": [
    "#Distance Calculation\n",
    "\n",
    "\n",
    "for points in lat_arr:\n",
    "    distance = math.sqrt( ((ref_point[0]-lat_arr[k])**2)+((ref_point[1]-lng_arr[k])**2) )\n",
    "    distance_arr.append(distance)\n",
    "    k+=1\n",
    "    \n",
    "\n",
    "dict_main={'Name':name,'Address':address, 'Latitude':lat_arr, 'Longitude':lng_arr, 'Distance':distance_arr}\n",
    "#print(dict_main)\n",
    "x=pd.DataFrame(dict_main)\n",
    "x.sort_values('Distance')\n",
    "\n",
    "\n",
    "# distance_coordinate=dict(sorted(coordinate_dict.items(), key=lambda item: item[1])) \n",
    "# new = pd.DataFrame(distance_coordinate.items(), columns=['Co-ordinates','Distance'])\n",
    "# print(new)\n",
    "\n"
   ]
  },
  {
   "cell_type": "code",
   "execution_count": null,
   "metadata": {},
   "outputs": [],
   "source": []
  },
  {
   "cell_type": "code",
   "execution_count": null,
   "metadata": {},
   "outputs": [],
   "source": []
  },
  {
   "cell_type": "code",
   "execution_count": null,
   "metadata": {},
   "outputs": [],
   "source": []
  },
  {
   "cell_type": "code",
   "execution_count": null,
   "metadata": {},
   "outputs": [],
   "source": []
  },
  {
   "cell_type": "code",
   "execution_count": null,
   "metadata": {},
   "outputs": [],
   "source": []
  },
  {
   "cell_type": "code",
   "execution_count": null,
   "metadata": {},
   "outputs": [],
   "source": []
  },
  {
   "cell_type": "code",
   "execution_count": null,
   "metadata": {},
   "outputs": [],
   "source": []
  },
  {
   "cell_type": "code",
   "execution_count": 7,
   "metadata": {},
   "outputs": [],
   "source": [
    "#Save data to CSV with geodata\n",
    "\n",
    "#df.to_csv('addresswll.csv')\n",
    "#df1 = pd.read_csv('addresswll.csv')\n",
    "#print(df1)"
   ]
  },
  {
   "cell_type": "code",
   "execution_count": 8,
   "metadata": {},
   "outputs": [],
   "source": [
    "# Read headers\n",
    "#print(df.columns)\n",
    "\n",
    "# Read each column\n",
    "#print(df{'Name'}[0:5])\n",
    "#read each row\n",
    "#print(df.iloc[0:1])\n",
    "#read a specific location (R,C)\n",
    "#df.loc[df['Type 1']==\"Water\"]\n",
    "\n",
    "\n",
    "\n",
    "\n",
    "#df.sort_values(['Type 1', 'HP'], ascending=[1,0])"
   ]
  }
 ],
 "metadata": {
  "kernelspec": {
   "display_name": "Python 3",
   "language": "python",
   "name": "python3"
  },
  "language_info": {
   "codemirror_mode": {
    "name": "ipython",
    "version": 3
   },
   "file_extension": ".py",
   "mimetype": "text/x-python",
   "name": "python",
   "nbconvert_exporter": "python",
   "pygments_lexer": "ipython3",
   "version": "3.8.5"
  }
 },
 "nbformat": 4,
 "nbformat_minor": 4
}
